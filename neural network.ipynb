{
 "cells": [
  {
   "cell_type": "code",
   "execution_count": 8,
   "metadata": {},
   "outputs": [
    {
     "name": "stdout",
     "output_type": "stream",
     "text": [
      "Accuracy:  0.4752851711026616\n",
      "Accuracy:  0.5437262357414449\n",
      "Accuracy:  0.44106463878326996\n",
      "Accuracy:  0.5817490494296578\n",
      "Accuracy:  0.4448669201520912\n",
      "Accuracy:  0.4524714828897338\n",
      "Accuracy:  0.5779467680608364\n",
      "Accuracy:  0.4600760456273764\n",
      "Accuracy:  0.6311787072243346\n",
      "Accuracy:  0.6311787072243346\n",
      "Accuracy:  0.6653992395437263\n",
      "Accuracy:  0.41825095057034223\n",
      "Accuracy:  0.4752851711026616\n",
      "Accuracy:  0.44106463878326996\n",
      "Accuracy:  0.5893536121673004\n",
      "Accuracy:  0.42585551330798477\n",
      "Accuracy:  0.44866920152091255\n",
      "Accuracy:  0.4866920152091255\n",
      "Accuracy:  0.45627376425855515\n",
      "Accuracy:  0.4600760456273764\n",
      "Accuracy:  0.43346007604562736\n",
      "Accuracy:  0.44866920152091255\n",
      "Accuracy:  0.6577946768060836\n",
      "Accuracy:  0.43346007604562736\n",
      "Accuracy:  0.6311787072243346\n",
      "Accuracy:  0.5817490494296578\n",
      "Accuracy:  0.49049429657794674\n",
      "Accuracy:  0.5703422053231939\n",
      "Accuracy:  0.6083650190114068\n",
      "Accuracy:  0.4448669201520912\n",
      "Accuracy:  0.4524714828897338\n",
      "Accuracy:  0.43346007604562736\n",
      "Accuracy:  0.5893536121673004\n",
      "Accuracy:  0.596958174904943\n",
      "Accuracy:  0.6045627376425855\n",
      "Accuracy:  0.6501901140684411\n",
      "Accuracy:  0.4600760456273764\n",
      "Accuracy:  0.6577946768060836\n",
      "Accuracy:  0.4828897338403042\n",
      "Accuracy:  0.5855513307984791\n",
      "Accuracy:  0.44106463878326996\n",
      "Accuracy:  0.6349809885931559\n",
      "Accuracy:  0.49809885931558934\n",
      "Accuracy:  0.5057034220532319\n",
      "Accuracy:  0.43346007604562736\n",
      "Accuracy:  0.45627376425855515\n",
      "Accuracy:  0.45627376425855515\n",
      "Accuracy:  0.6387832699619772\n",
      "Accuracy:  0.6007604562737643\n"
     ]
    }
   ],
   "source": [
    "#using age+gender+status+units+complients\n",
    "import pandas as pd  \n",
    "import numpy as np  \n",
    "import matplotlib.pyplot as plt  \n",
    "%matplotlib inline\n",
    "\n",
    "from sklearn.metrics import accuracy_score\n",
    "\n",
    "#df = pd.read_csv('C:\\\\Users\\\\Ariful\\\\Desktop\\\\final data\\\\thesisfinaldata1.csv')\n",
    "df = pd.read_csv('C:\\\\Users\\\\Ariful\\\\Desktop\\\\final data\\\\testsample6.csv')\n",
    "\n",
    "df=df.fillna('0')\n",
    "\n",
    "df = df.drop(['Age'], axis= 1)\n",
    "df = df.drop(['Age2'], axis= 1)\n",
    "\n",
    "df = df.drop(['Perm_Address'], axis= 1)\n",
    "#df = df.drop(['Marital_status'], axis= 1)\n",
    "\n",
    "X = df.iloc[:,1:22].values\n",
    "y = df.iloc[:,-1].values\n",
    "#print(\"\\nX before making numerical: \\n\",X)\n",
    "#print(\"\\ny before making numerical: \\n\",y)\n",
    "\n",
    "from sklearn.preprocessing import LabelEncoder\n",
    "labelencoder_X = LabelEncoder()\n",
    "for i in range(0,21):\n",
    "    X[:,i]= labelencoder_X.fit_transform(X[:,i])\n",
    "\n",
    "labelencoder_y = LabelEncoder()\n",
    "y= labelencoder_y.fit_transform(y)\n",
    "#print(\"\\nX after making numerical: \\n\",X)\n",
    "#print(\"\\ny after making numerical: \\n\",y)\n",
    "\n",
    "for i in range(1,50):\n",
    "    from sklearn.cross_validation import train_test_split\n",
    "    X_train, X_test, y_train, y_test = train_test_split(X,y, test_size = 0.1, random_state = i)\n",
    "    \n",
    "    from sklearn.neural_network import MLPClassifier\n",
    "    nn = MLPClassifier(solver='lbfgs', alpha=1e-1, hidden_layer_sizes=(2,5,2), random_state=42,max_iter=500)\n",
    "    nn.fit(X_train, y_train)\n",
    "    \n",
    "    predicted = nn.predict(X_test)\n",
    "\n",
    "    #print(\"Prediction Result: \",predicted)\n",
    "\n",
    "    print(\"Accuracy: \",accuracy_score(y_test, predicted, normalize = True)) #accuracy_score(train output, predict output)"
   ]
  },
  {
   "cell_type": "code",
   "execution_count": 9,
   "metadata": {},
   "outputs": [
    {
     "name": "stdout",
     "output_type": "stream",
     "text": [
      "[[  0   2   0   0   0   0   0   0   0   0   0   0   0   0   0   0   0   0\n",
      "    8   0]\n",
      " [  0  58   0   0   0   0   0   0   0   0   0   0   0   0   0   0   0   0\n",
      "   16   0]\n",
      " [  0   0   0   0   0   0   0   0   0   0   0   0   0   0   0   0   0   0\n",
      "    2   0]\n",
      " [  0   0   0   0   0   0   0   0   0   0   0   0   0   0   0   0   0   0\n",
      "    2   0]\n",
      " [  0   0   0   0   0   0   0   0   0   0   0   0   0   0   0   0   0   0\n",
      "    2   0]\n",
      " [  0   3   0   0   0   0   0   0   0   0   0   0   0   0   0   0   0   0\n",
      "    3   0]\n",
      " [  0   0   0   0   0   0   0   0   0   0   0   0   0   0   0   0   0   0\n",
      "    1   0]\n",
      " [  0   0   0   0   0   0   0   0   0   0   0   0   0   0   0   0   0   0\n",
      "    1   0]\n",
      " [  0   1   0   0   0   0   0   0   0   0   0   0   0   0   0   0   0   0\n",
      "    3   0]\n",
      " [  0   0   0   0   0   0   0   0   0   0   0   0   0   0   0   0   0   0\n",
      "    1   0]\n",
      " [  0   0   0   0   0   0   0   0   0   0   0   0   0   0   0   0   0   0\n",
      "    1   0]\n",
      " [  0   0   0   0   0   0   0   0   0   0   0   0   0   0   0   0   0   0\n",
      "    4   0]\n",
      " [  0   0   0   0   0   0   0   0   0   0   0   0   0   0   0   0   0   0\n",
      "    1   0]\n",
      " [  0   1   0   0   0   0   0   0   0   0   0   0   0   0   0   0   0   0\n",
      "    0   0]\n",
      " [  0   3   0   0   0   0   0   0   0   0   0   0   0   0   0   0   0   0\n",
      "    0   0]\n",
      " [  0   1   0   0   0   0   0   0   0   0   0   0   0   0   0   0   0   0\n",
      "    8   0]\n",
      " [  0   1   0   0   0   0   0   0   0   0   0   0   0   0   0   0   0   0\n",
      "    0   0]\n",
      " [  0  12   0   0   0   0   0   0   0   0   0   0   0   0   0   0   0   0\n",
      "   12   0]\n",
      " [  0  15   0   0   0   0   0   0   0   0   0   0   0   0   0   0   0   0\n",
      "  100   0]\n",
      " [  0   0   0   0   0   0   0   0   0   0   0   0   0   0   0   0   0   0\n",
      "    1   0]]\n",
      "             precision    recall  f1-score   support\n",
      "\n",
      "          1       0.00      0.00      0.00        10\n",
      "          2       0.60      0.78      0.68        74\n",
      "          4       0.00      0.00      0.00         2\n",
      "          5       0.00      0.00      0.00         2\n",
      "          7       0.00      0.00      0.00         2\n",
      "          8       0.00      0.00      0.00         6\n",
      "         10       0.00      0.00      0.00         1\n",
      "         11       0.00      0.00      0.00         1\n",
      "         12       0.00      0.00      0.00         4\n",
      "         14       0.00      0.00      0.00         1\n",
      "         16       0.00      0.00      0.00         1\n",
      "         17       0.00      0.00      0.00         4\n",
      "         18       0.00      0.00      0.00         1\n",
      "         21       0.00      0.00      0.00         1\n",
      "         22       0.00      0.00      0.00         3\n",
      "         25       0.00      0.00      0.00         9\n",
      "         26       0.00      0.00      0.00         1\n",
      "         27       0.00      0.00      0.00        24\n",
      "         28       0.60      0.87      0.71       115\n",
      "         29       0.00      0.00      0.00         1\n",
      "\n",
      "avg / total       0.43      0.60      0.50       263\n",
      "\n"
     ]
    },
    {
     "name": "stderr",
     "output_type": "stream",
     "text": [
      "C:\\Users\\Ariful\\Anaconda3\\lib\\site-packages\\sklearn\\metrics\\classification.py:1135: UndefinedMetricWarning: Precision and F-score are ill-defined and being set to 0.0 in labels with no predicted samples.\n",
      "  'precision', 'predicted', average, warn_for)\n"
     ]
    }
   ],
   "source": [
    "from sklearn.metrics import classification_report, confusion_matrix  \n",
    "print(confusion_matrix(y_test,predicted))  \n",
    "print(classification_report(y_test,predicted))"
   ]
  },
  {
   "cell_type": "code",
   "execution_count": 10,
   "metadata": {},
   "outputs": [
    {
     "name": "stderr",
     "output_type": "stream",
     "text": [
      "C:\\Users\\Ariful\\Anaconda3\\lib\\site-packages\\sklearn\\model_selection\\_split.py:605: Warning: The least populated class in y has only 4 members, which is too few. The minimum number of members in any class cannot be less than n_splits=10.\n",
      "  % (min_groups, self.n_splits)), Warning)\n"
     ]
    },
    {
     "name": "stdout",
     "output_type": "stream",
     "text": [
      "0.5244848934045402\n",
      "[0.42741935 0.42741935 0.5951417  0.43442623 0.44915254 0.63675214\n",
      " 0.64347826 0.46929825 0.47085202 0.69090909]\n"
     ]
    }
   ],
   "source": [
    "# Applying k-Fold Cross Validation\n",
    "from sklearn.model_selection import cross_val_score\n",
    "#estimator = object, step = int or float, optional(default = 1), cv = int, cross-validation or an iterable optional\n",
    "#scoring = string, callable or none, optional, default = none \n",
    "accuracies = cross_val_score(estimator = nn, X = X_train, y = y_train, cv = 10)\n",
    "#taking 10 cv result and find mean value\n",
    "a=accuracies.mean()\n",
    "print(a)\n",
    "print(accuracies)"
   ]
  },
  {
   "cell_type": "code",
   "execution_count": null,
   "metadata": {},
   "outputs": [],
   "source": []
  },
  {
   "cell_type": "code",
   "execution_count": null,
   "metadata": {},
   "outputs": [],
   "source": []
  },
  {
   "cell_type": "code",
   "execution_count": null,
   "metadata": {},
   "outputs": [],
   "source": []
  },
  {
   "cell_type": "code",
   "execution_count": null,
   "metadata": {},
   "outputs": [],
   "source": []
  },
  {
   "cell_type": "code",
   "execution_count": null,
   "metadata": {},
   "outputs": [],
   "source": []
  },
  {
   "cell_type": "code",
   "execution_count": null,
   "metadata": {},
   "outputs": [],
   "source": []
  }
 ],
 "metadata": {
  "kernelspec": {
   "display_name": "Python 3",
   "language": "python",
   "name": "python3"
  },
  "language_info": {
   "codemirror_mode": {
    "name": "ipython",
    "version": 3
   },
   "file_extension": ".py",
   "mimetype": "text/x-python",
   "name": "python",
   "nbconvert_exporter": "python",
   "pygments_lexer": "ipython3",
   "version": "3.6.4"
  }
 },
 "nbformat": 4,
 "nbformat_minor": 2
}
