{
 "cells": [
  {
   "cell_type": "code",
   "execution_count": 1,
   "metadata": {},
   "outputs": [
    {
     "name": "stderr",
     "output_type": "stream",
     "text": [
      "C:\\Users\\Ariful\\Anaconda3\\lib\\site-packages\\sklearn\\cross_validation.py:41: DeprecationWarning: This module was deprecated in version 0.18 in favor of the model_selection module into which all the refactored classes and functions are moved. Also note that the interface of the new CV iterators are different from that of this module. This module will be removed in 0.20.\n",
      "  \"This module will be removed in 0.20.\", DeprecationWarning)\n",
      "C:\\Users\\Ariful\\Anaconda3\\lib\\site-packages\\sklearn\\utils\\validation.py:475: DataConversionWarning: Data with input dtype object was converted to float64 by StandardScaler.\n",
      "  warnings.warn(msg, DataConversionWarning)\n"
     ]
    },
    {
     "name": "stdout",
     "output_type": "stream",
     "text": [
      "Accuracy:  0.574468085106383\n",
      "Accuracy:  0.5531914893617021\n",
      "Accuracy:  0.6382978723404256\n",
      "Accuracy:  0.48936170212765956\n",
      "Accuracy:  0.5531914893617021\n",
      "Accuracy:  0.5957446808510638\n",
      "Accuracy:  0.574468085106383\n",
      "Accuracy:  0.5957446808510638\n",
      "Accuracy:  0.44680851063829785\n",
      "Accuracy:  0.6595744680851063\n",
      "Accuracy:  0.6170212765957447\n",
      "Accuracy:  0.46808510638297873\n",
      "Accuracy:  0.6382978723404256\n",
      "Accuracy:  0.574468085106383\n",
      "Accuracy:  0.5106382978723404\n",
      "Accuracy:  0.5319148936170213\n",
      "Accuracy:  0.6382978723404256\n",
      "Accuracy:  0.7872340425531915\n",
      "Accuracy:  0.6170212765957447\n",
      "Accuracy:  0.40425531914893614\n",
      "Accuracy:  0.5531914893617021\n",
      "Accuracy:  0.425531914893617\n",
      "Accuracy:  0.5319148936170213\n",
      "Accuracy:  0.3829787234042553\n",
      "Accuracy:  0.6595744680851063\n",
      "Accuracy:  0.6595744680851063\n",
      "Accuracy:  0.5531914893617021\n",
      "Accuracy:  0.5957446808510638\n",
      "Accuracy:  0.6382978723404256\n",
      "Accuracy:  0.3617021276595745\n",
      "Accuracy:  0.7021276595744681\n",
      "Accuracy:  0.48936170212765956\n",
      "Accuracy:  0.7021276595744681\n",
      "Accuracy:  0.48936170212765956\n",
      "Accuracy:  0.5106382978723404\n",
      "Accuracy:  0.574468085106383\n",
      "Accuracy:  0.6808510638297872\n",
      "Accuracy:  0.5319148936170213\n",
      "Accuracy:  0.5531914893617021\n",
      "Accuracy:  0.6170212765957447\n",
      "Accuracy:  0.5106382978723404\n",
      "Accuracy:  0.48936170212765956\n",
      "Accuracy:  0.5319148936170213\n",
      "Accuracy:  0.723404255319149\n",
      "Accuracy:  0.5957446808510638\n",
      "Accuracy:  0.48936170212765956\n",
      "Accuracy:  0.574468085106383\n",
      "Accuracy:  0.6170212765957447\n",
      "Accuracy:  0.5957446808510638\n"
     ]
    }
   ],
   "source": [
    "import pandas as pd #data processing, CSV file I/O (e.g. pd.read_csv) \n",
    "import numpy as np #linear algebra   \n",
    "\n",
    "\n",
    "from sklearn.metrics import accuracy_score\n",
    "\n",
    "#importing the dataset\n",
    "df = pd.read_csv('C:\\\\Users\\\\Ariful\\\\Desktop\\\\final data\\\\thesisfinaldata1.csv')\n",
    "\n",
    "#filling null value as 0\n",
    "df=df.fillna('0')\n",
    "\n",
    "#Dropping Age column\n",
    "df = df.drop(['Age'], axis= 1)\n",
    "df = df.drop(['Age2'], axis= 1)\n",
    "#Dropping Perm_Address column\n",
    "df = df.drop(['Perm_Address'], axis= 1)\n",
    "\n",
    "#taking independent variable\n",
    "X = df.iloc[:,1:22].values\n",
    "#taking dependent variable\n",
    "y = df.iloc[:,-1].values\n",
    "\n",
    "#print(\"\\nX before making numerical: \\n\",X)\n",
    "#print(\"\\ny before making numerical: \\n\",y)\n",
    "\n",
    "#taking careof categorical data\n",
    "from sklearn.preprocessing import LabelEncoder\n",
    "labelencoder_X = LabelEncoder()\n",
    "for i in range(0,21):\n",
    "    X[:,i]= labelencoder_X.fit_transform(X[:,i])\n",
    "\n",
    "labelencoder_y = LabelEncoder()\n",
    "y= labelencoder_y.fit_transform(y)\n",
    "#print(\"\\nX after making numerical: \\n\",X)\n",
    "#print(\"\\ny after making numerical: \\n\",y)\n",
    "\n",
    "\n",
    "for i in range(1,50):\n",
    "    # split data train 90 % and test 10 %\n",
    "    from sklearn.cross_validation import train_test_split\n",
    "    #X_train=X,y_train=y\n",
    "    X_train, X_test, y_train, y_test = train_test_split(X, y, test_size = 0.1, random_state = i)\n",
    "    \n",
    "    #import standered scaler library\n",
    "    #Standardize features by removing the mean and scaling to unit variance\n",
    "    from sklearn.preprocessing import StandardScaler\n",
    "    sc= StandardScaler()\n",
    "    X_train= sc.fit_transform(X_train)\n",
    "    X_test= sc.transform(X_test)\n",
    "    \n",
    "    #import k neighbors classifier\n",
    "    from sklearn.neighbors import KNeighborsClassifier\n",
    "    \n",
    "    #taking different peremater for random forest classifier\n",
    "    classifier = KNeighborsClassifier(n_neighbors = 10, metric = 'minkowski', p = 2, weights='distance',algorithm ='ball_tree' )\n",
    "    #fitting is equal to training. Then, after it is trained, the model can be used to make predictions, usually with a .predict() method call.\n",
    "    classifier.fit(X_train, y_train)\n",
    "    \n",
    "    #find out the predicted value\n",
    "    predicted = classifier.predict(X_test)\n",
    "\n",
    "    #import accurecy_library for scoring attributes\n",
    "    from sklearn.metrics import accuracy_score\n",
    "    #print(\"Prediction Result: \",predicted)\n",
    "    \n",
    "    #finding actual prediction compared with test size\n",
    "    print(\"Accuracy: \",accuracy_score(y_test, predicted))"
   ]
  },
  {
   "cell_type": "code",
   "execution_count": 2,
   "metadata": {},
   "outputs": [
    {
     "name": "stdout",
     "output_type": "stream",
     "text": [
      "             precision    recall  f1-score   support\n",
      "\n",
      "          2       0.64      0.53      0.58        17\n",
      "          7       0.00      0.00      0.00         1\n",
      "         16       0.00      0.00      0.00         1\n",
      "         24       0.00      0.00      0.00         2\n",
      "         26       0.50      0.20      0.29         5\n",
      "         27       0.62      0.86      0.72        21\n",
      "\n",
      "avg / total       0.56      0.60      0.56        47\n",
      "\n"
     ]
    },
    {
     "name": "stderr",
     "output_type": "stream",
     "text": [
      "C:\\Users\\Ariful\\Anaconda3\\lib\\site-packages\\sklearn\\metrics\\classification.py:1135: UndefinedMetricWarning: Precision and F-score are ill-defined and being set to 0.0 in labels with no predicted samples.\n",
      "  'precision', 'predicted', average, warn_for)\n"
     ]
    }
   ],
   "source": [
    "#import library for classification report, confusion matrix\n",
    "from sklearn.metrics import classification_report, confusion_matrix  \n",
    "#print(confusion_matrix(y_test,predicted))  \n",
    "print(classification_report(y_test,predicted))"
   ]
  },
  {
   "cell_type": "code",
   "execution_count": 3,
   "metadata": {},
   "outputs": [
    {
     "name": "stderr",
     "output_type": "stream",
     "text": [
      "C:\\Users\\Ariful\\Anaconda3\\lib\\site-packages\\sklearn\\model_selection\\_split.py:605: Warning: The least populated class in y has only 1 members, which is too few. The minimum number of members in any class cannot be less than n_splits=10.\n",
      "  % (min_groups, self.n_splits)), Warning)\n"
     ]
    },
    {
     "name": "stdout",
     "output_type": "stream",
     "text": [
      "[0.33333333 0.5        0.61904762 0.65853659 0.69230769 0.55263158\n",
      " 0.75675676 0.66666667 0.66666667 0.58333333]\n"
     ]
    },
    {
     "data": {
      "text/plain": [
       "0.6029280232425289"
      ]
     },
     "execution_count": 3,
     "metadata": {},
     "output_type": "execute_result"
    }
   ],
   "source": [
    "# Applying k-Fold Cross Validation\n",
    "from sklearn.model_selection import cross_val_score\n",
    "#estimator = object, step = int or float, optional(default = 1), cv = int, cross-validation or an iterable optional\n",
    "#scoring = string, callable or none, optional, default = none \n",
    "accuracies = cross_val_score(estimator = classifier, X = X_train, y = y_train, cv = 10)\n",
    "print(accuracies)\n",
    "#taking 10 cv result and find mean value\n",
    "accuracies.mean()\n",
    "#accuracies.std()"
   ]
  },
  {
   "cell_type": "code",
   "execution_count": 4,
   "metadata": {},
   "outputs": [
    {
     "name": "stderr",
     "output_type": "stream",
     "text": [
      "C:\\Users\\Ariful\\Anaconda3\\lib\\site-packages\\sklearn\\grid_search.py:42: DeprecationWarning: This module was deprecated in version 0.18 in favor of the model_selection module into which all the refactored classes and functions are moved. This module will be removed in 0.20.\n",
      "  DeprecationWarning)\n",
      "C:\\Users\\Ariful\\Anaconda3\\lib\\site-packages\\sklearn\\cross_validation.py:553: Warning: The least populated class in y has only 1 members, which is too few. The minimum number of labels for any class cannot be less than n_folds=10.\n",
      "  % (min_labels, self.n_folds)), Warning)\n"
     ]
    },
    {
     "name": "stdout",
     "output_type": "stream",
     "text": [
      "0.5909090909090909\n",
      "{'algorithm': 'brute', 'n_neighbors': 10, 'weights': 'distance'}\n"
     ]
    }
   ],
   "source": [
    "# Applying Grid Search to find the best model and the best parameters\n",
    "from sklearn.grid_search import GridSearchCV\n",
    "#creat variable tuned_parameters where different perameters are taken\n",
    "tuned_parameters = [{'n_neighbors': [5,10,15],\n",
    "                   'weights': ['distance', 'uniform'],\n",
    "                   'algorithm': ['ball_tree', 'kd_tree', 'brute']}]\n",
    "#estimator = object, step = int or float, optional(default = 1), cv = int, cross-validation or an iterable optional\n",
    "#scoring = string, callable or none, optional, default = none\n",
    "grid_search = GridSearchCV(classifier, tuned_parameters, cv=10)\n",
    "#fitting is equal to training. Then, after it is trained, the model can be used to make predictions, usually with a .predict() method call.\n",
    "grid_search.fit(X_train, y_train)\n",
    "#taking best score\n",
    "best_accuracy = grid_search.best_score_\n",
    "#taking best perameters\n",
    "best_parameters = grid_search.best_params_\n",
    "#print(grid_search)\n",
    "print(best_accuracy)\n",
    "print(best_parameters)\n"
   ]
  },
  {
   "cell_type": "code",
   "execution_count": 5,
   "metadata": {},
   "outputs": [
    {
     "name": "stdout",
     "output_type": "stream",
     "text": [
      "[27  2 27 26 27  2 27 27  2  2  2  2 24 27 26 27  7 27 27 27 27 27 27  2\n",
      " 27 27 27 27 27 27  2 27 27 27  2 27  2 27 27  2 27 27  2  2 27  2 27]\n",
      "[27  2 27 26 27  2 27 27 26  2  2  2 16  2  2  2 27  2 26 27 27 27 26 24\n",
      " 27 27 27 27 27 26  2  2 27  2  2 27  2  2  2 27 24 27 27  7 27  2 27]\n"
     ]
    }
   ],
   "source": [
    "#printing predicted and actual predicted\n",
    "print (predicted)\n",
    "print (y_test)\n"
   ]
  },
  {
   "cell_type": "code",
   "execution_count": null,
   "metadata": {},
   "outputs": [],
   "source": []
  }
 ],
 "metadata": {
  "kernelspec": {
   "display_name": "Python 3",
   "language": "python",
   "name": "python3"
  },
  "language_info": {
   "codemirror_mode": {
    "name": "ipython",
    "version": 3
   },
   "file_extension": ".py",
   "mimetype": "text/x-python",
   "name": "python",
   "nbconvert_exporter": "python",
   "pygments_lexer": "ipython3",
   "version": "3.6.4"
  }
 },
 "nbformat": 4,
 "nbformat_minor": 2
}
