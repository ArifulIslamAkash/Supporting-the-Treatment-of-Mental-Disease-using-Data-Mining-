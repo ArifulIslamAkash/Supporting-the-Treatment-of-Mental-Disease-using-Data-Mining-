{
 "cells": [
  {
   "cell_type": "code",
   "execution_count": 33,
   "metadata": {
    "scrolled": true
   },
   "outputs": [
    {
     "name": "stdout",
     "output_type": "stream",
     "text": [
      "\n",
      "X before making numerical: \n",
      " [['20-24' 'F' 'Unmarried' ... 'No' 'Yes' 'No']\n",
      " ['25-29' 'F' 'Married' ... 'No' 'No' 'No']\n",
      " ['30-34' 'F' 'Married' ... 'No' 'No' 'No']\n",
      " ...\n",
      " ['50-54' 'M' 'Married' ... 'No' 'No' 'No']\n",
      " ['20-24' 'M' 'Married' ... 'No' 'No' 'No']\n",
      " ['25-29' 'M' 'Unmarried' ... 'No' 'No' 'No']]\n"
     ]
    }
   ],
   "source": [
    "#using age+gender+status+units+complients\n",
    "import pandas as pd  \n",
    "import numpy as np\n",
    "from sklearn import tree\n",
    "import matplotlib.pyplot as plt  \n",
    "%matplotlib inline\n",
    "\n",
    "from sklearn.metrics import accuracy_score\n",
    "\n",
    "#df = pd.read_csv('C:\\\\Users\\\\Ariful\\\\Desktop\\\\final data\\\\thesisfinaldata1.csv')\n",
    "df = pd.read_csv('C:\\\\Users\\\\Ariful\\\\Desktop\\\\final data\\\\testsample6.csv')\n",
    "\n",
    "df=df.fillna('0')\n",
    "\n",
    "df = df.drop(['Age'], axis= 1)\n",
    "df = df.drop(['Age2'], axis= 1)\n",
    "\n",
    "df = df.drop(['Perm_Address'], axis= 1)\n",
    "#df = df.drop(['Marital_status'], axis= 1)\n",
    "\n",
    "\n",
    "\n",
    "X = df.iloc[:,1:22].values\n",
    "y = df.iloc[:,-1].values\n",
    "print(\"\\nX before making numerical: \\n\",X)\n",
    "#print(\"\\ny before making numerical: \\n\",y)\n",
    "\n",
    "from sklearn.preprocessing import LabelEncoder\n",
    "labelencoder_X = LabelEncoder()\n",
    "for i in range(0,21):\n",
    "    X[:,i]= labelencoder_X.fit_transform(X[:,i])\n",
    "\n",
    "labelencoder_y = LabelEncoder()\n",
    "y= labelencoder_y.fit_transform(y)\n",
    "#print(\"\\nX after making numerical: \\n\",X)\n",
    "#print(\"\\ny after making numerical: \\n\",y)\n"
   ]
  },
  {
   "cell_type": "code",
   "execution_count": 34,
   "metadata": {},
   "outputs": [
    {
     "name": "stdout",
     "output_type": "stream",
     "text": [
      "Accuracy:  0.6197718631178707\n",
      "Accuracy:  0.6159695817490495\n",
      "Accuracy:  0.5703422053231939\n",
      "Accuracy:  0.6083650190114068\n",
      "Accuracy:  0.6806083650190115\n",
      "Accuracy:  0.7034220532319392\n",
      "Accuracy:  0.55893536121673\n",
      "Accuracy:  0.6159695817490495\n",
      "Accuracy:  0.5931558935361216\n",
      "Accuracy:  0.623574144486692\n",
      "Accuracy:  0.6425855513307985\n",
      "Accuracy:  0.6121673003802282\n",
      "Accuracy:  0.6463878326996197\n",
      "Accuracy:  0.6159695817490495\n",
      "Accuracy:  0.6045627376425855\n",
      "Accuracy:  0.6273764258555133\n",
      "Accuracy:  0.6159695817490495\n",
      "Accuracy:  0.6806083650190115\n",
      "Accuracy:  0.6768060836501901\n",
      "Accuracy:  0.6273764258555133\n",
      "Accuracy:  0.5893536121673004\n",
      "Accuracy:  0.6273764258555133\n",
      "Accuracy:  0.6615969581749049\n",
      "Accuracy:  0.596958174904943\n",
      "Accuracy:  0.6121673003802282\n",
      "Accuracy:  0.5741444866920152\n",
      "Accuracy:  0.6577946768060836\n",
      "Accuracy:  0.5665399239543726\n",
      "Accuracy:  0.6007604562737643\n",
      "Accuracy:  0.6273764258555133\n",
      "Accuracy:  0.5779467680608364\n",
      "Accuracy:  0.6197718631178707\n",
      "Accuracy:  0.5817490494296578\n",
      "Accuracy:  0.5855513307984791\n",
      "Accuracy:  0.5741444866920152\n",
      "Accuracy:  0.5893536121673004\n",
      "Accuracy:  0.6273764258555133\n",
      "Accuracy:  0.6539923954372624\n",
      "Accuracy:  0.6501901140684411\n",
      "Accuracy:  0.55893536121673\n",
      "Accuracy:  0.6007604562737643\n",
      "Accuracy:  0.6425855513307985\n",
      "Accuracy:  0.6920152091254753\n",
      "Accuracy:  0.6958174904942965\n",
      "Accuracy:  0.6577946768060836\n",
      "Accuracy:  0.6539923954372624\n",
      "Accuracy:  0.6121673003802282\n",
      "Accuracy:  0.6768060836501901\n",
      "Accuracy:  0.6083650190114068\n"
     ]
    }
   ],
   "source": [
    "for i in range(1,50):\n",
    "    from sklearn.cross_validation import train_test_split\n",
    "    X_train, X_test, y_train, y_test = train_test_split(X,y, test_size = 0.1, random_state = i)\n",
    "    \n",
    "    clf = tree.DecisionTreeClassifier(criterion='gini', max_depth=15,\n",
    "            max_features=9, max_leaf_nodes=22, min_samples_leaf=7)\n",
    "    clf.fit(X_train, y_train)\n",
    "    \n",
    "    predicted = clf.predict(X_test)\n",
    "\n",
    "    #print(\"Prediction Result: \",predicted)\n",
    "\n",
    "    print(\"Accuracy: \",accuracy_score(y_test, predicted, normalize = True)) #accuracy_score(train output, predict output)"
   ]
  },
  {
   "cell_type": "code",
   "execution_count": 35,
   "metadata": {},
   "outputs": [
    {
     "name": "stdout",
     "output_type": "stream",
     "text": [
      "[[  0   2   0   0   0   0   0   0   0   0   0   0   0   0   0   0   0   0\n",
      "    8   0]\n",
      " [  0  49   0   0   0   0   0   0   0   0   0   0   0   0   0   0   0   0\n",
      "   25   0]\n",
      " [  0   0   2   0   0   0   0   0   0   0   0   0   0   0   0   0   0   0\n",
      "    0   0]\n",
      " [  0   0   0   0   0   0   0   0   0   0   0   0   0   0   0   0   0   0\n",
      "    2   0]\n",
      " [  0   0   0   0   0   0   0   0   0   0   0   0   0   0   0   0   0   0\n",
      "    2   0]\n",
      " [  0   0   0   0   0   0   0   0   0   0   0   0   0   0   0   0   0   0\n",
      "    6   0]\n",
      " [  0   0   0   0   0   0   0   0   0   0   0   0   0   0   0   0   0   0\n",
      "    1   0]\n",
      " [  0   0   0   0   0   0   0   1   0   0   0   0   0   0   0   0   0   0\n",
      "    0   0]\n",
      " [  0   1   0   0   0   0   0   0   0   0   0   0   0   0   0   0   0   0\n",
      "    3   0]\n",
      " [  0   0   0   0   0   0   0   0   0   0   0   0   0   0   0   0   0   0\n",
      "    1   0]\n",
      " [  0   0   0   0   0   0   0   0   0   0   0   0   0   0   0   0   0   0\n",
      "    1   0]\n",
      " [  0   0   0   0   0   0   0   0   0   0   0   0   0   0   0   0   0   0\n",
      "    4   0]\n",
      " [  0   0   0   0   0   0   0   0   0   0   0   0   0   0   0   0   0   0\n",
      "    1   0]\n",
      " [  0   1   0   0   0   0   0   0   0   0   0   0   0   0   0   0   0   0\n",
      "    0   0]\n",
      " [  0   0   0   0   0   0   0   0   0   0   0   0   0   0   0   0   0   0\n",
      "    3   0]\n",
      " [  0   1   0   0   0   0   0   0   0   0   0   0   0   0   0   0   0   0\n",
      "    8   0]\n",
      " [  0   1   0   0   0   0   0   0   0   0   0   0   0   0   0   0   0   0\n",
      "    0   0]\n",
      " [  0   2   0   0   0   0   0   0   0   0   0   0   0   0   0   0   0   0\n",
      "   22   0]\n",
      " [  0   6   1   0   0   0   0   0   0   0   0   0   0   0   0   0   0   0\n",
      "  108   0]\n",
      " [  0   0   0   0   0   0   0   0   0   0   0   0   0   0   0   0   0   0\n",
      "    1   0]]\n",
      "             precision    recall  f1-score   support\n",
      "\n",
      "          1       0.00      0.00      0.00        10\n",
      "          2       0.78      0.66      0.72        74\n",
      "          4       0.67      1.00      0.80         2\n",
      "          5       0.00      0.00      0.00         2\n",
      "          7       0.00      0.00      0.00         2\n",
      "          8       0.00      0.00      0.00         6\n",
      "         10       0.00      0.00      0.00         1\n",
      "         11       1.00      1.00      1.00         1\n",
      "         12       0.00      0.00      0.00         4\n",
      "         14       0.00      0.00      0.00         1\n",
      "         16       0.00      0.00      0.00         1\n",
      "         17       0.00      0.00      0.00         4\n",
      "         18       0.00      0.00      0.00         1\n",
      "         21       0.00      0.00      0.00         1\n",
      "         22       0.00      0.00      0.00         3\n",
      "         25       0.00      0.00      0.00         9\n",
      "         26       0.00      0.00      0.00         1\n",
      "         27       0.00      0.00      0.00        24\n",
      "         28       0.55      0.94      0.69       115\n",
      "         29       0.00      0.00      0.00         1\n",
      "\n",
      "avg / total       0.47      0.61      0.51       263\n",
      "\n"
     ]
    },
    {
     "name": "stderr",
     "output_type": "stream",
     "text": [
      "C:\\Users\\Ariful\\Anaconda3\\lib\\site-packages\\sklearn\\metrics\\classification.py:1135: UndefinedMetricWarning: Precision and F-score are ill-defined and being set to 0.0 in labels with no predicted samples.\n",
      "  'precision', 'predicted', average, warn_for)\n"
     ]
    }
   ],
   "source": [
    "#import library for classification report, confusion matrix\n",
    "from sklearn.metrics import classification_report, confusion_matrix  \n",
    "print(confusion_matrix(y_test,predicted))  \n",
    "print(classification_report(y_test,predicted))"
   ]
  },
  {
   "cell_type": "code",
   "execution_count": 36,
   "metadata": {},
   "outputs": [
    {
     "name": "stdout",
     "output_type": "stream",
     "text": [
      "0.6171006516089659\n",
      "[0.56048387 0.59677419 0.58299595 0.61065574 0.59322034 0.61111111\n",
      " 0.63043478 0.65789474 0.65470852 0.67272727]\n"
     ]
    },
    {
     "name": "stderr",
     "output_type": "stream",
     "text": [
      "C:\\Users\\Ariful\\Anaconda3\\lib\\site-packages\\sklearn\\model_selection\\_split.py:605: Warning: The least populated class in y has only 4 members, which is too few. The minimum number of members in any class cannot be less than n_splits=10.\n",
      "  % (min_groups, self.n_splits)), Warning)\n"
     ]
    }
   ],
   "source": [
    "# Applying k-Fold Cross Validation\n",
    "from sklearn.model_selection import cross_val_score\n",
    "#estimator = object, step = int or float, optional(default = 1), cv = int, cross-validation or an iterable optional\n",
    "#scoring = string, callable or none, optional, default = none \n",
    "accuracies = cross_val_score(estimator = clf, X = X_train, y = y_train, cv = 10)\n",
    "#taking 10 cv result and find mean value\n",
    "a=accuracies.mean()\n",
    "print(a)\n",
    "print(accuracies)"
   ]
  },
  {
   "cell_type": "code",
   "execution_count": 37,
   "metadata": {},
   "outputs": [
    {
     "name": "stderr",
     "output_type": "stream",
     "text": [
      "C:\\Users\\Ariful\\Anaconda3\\lib\\site-packages\\sklearn\\model_selection\\_split.py:605: Warning: The least populated class in y has only 4 members, which is too few. The minimum number of members in any class cannot be less than n_splits=10.\n",
      "  % (min_groups, self.n_splits)), Warning)\n"
     ]
    },
    {
     "name": "stdout",
     "output_type": "stream",
     "text": [
      "0.635284139100933\n",
      "{'max_depth': 27, 'max_features': 7, 'max_leaf_nodes': 24, 'min_samples_leaf': 3}\n"
     ]
    }
   ],
   "source": [
    "# Applying Grid Search to find the best model and the best parameters\n",
    "from sklearn.model_selection import GridSearchCV\n",
    "#creat variable param_grid where different perameters are taken\n",
    "param_grid = { \n",
    "          \"max_leaf_nodes\" : [ 10,12,15,18,20,22,24],\n",
    "           \"max_depth\" : [ 12,15, 20,25,27],\n",
    "           \"max_features\" : [2,3,4,5,7,9],\"min_samples_leaf\":[3,5,7,9]}\n",
    "\n",
    "#estimator = object, step = int or float, optional(default = 1), cv = int, cross-validation or an iterable optional\n",
    "#scoring = string, callable or none, optional, default = none\n",
    "CV_rfc = GridSearchCV(estimator=clf, param_grid=param_grid, cv= 10)\n",
    "#fitting is equal to training. Then, after it is trained, the model can be used to make predictions, usually with a .predict() method call.\n",
    "CV_rfc.fit(X_train, y_train)\n",
    "#taking best score\n",
    "best_accuracy = CV_rfc.best_score_\n",
    "print (best_accuracy)\n",
    "#storing CV_rfc.best_params_ in variable a\n",
    "a=CV_rfc.best_params_\n",
    "print (a)"
   ]
  },
  {
   "cell_type": "code",
   "execution_count": 38,
   "metadata": {},
   "outputs": [
    {
     "data": {
      "text/plain": [
       "Diagnosis\n",
       "0                                   10\n",
       "Acute Psychotic Disorder            33\n",
       "BMD                                818\n",
       "BMT                                  7\n",
       "BPD                                  8\n",
       "Behavioural disorder                 6\n",
       "Brief                                4\n",
       "Conduct disorder                    10\n",
       "Conversation disorder               80\n",
       "DM                                   6\n",
       "Delusional                          25\n",
       "Dementia                            14\n",
       "Depression                          19\n",
       "EPS                                  8\n",
       "F.K                                 10\n",
       "Headache                             6\n",
       "Internel addictiom                   5\n",
       "MDD                                 24\n",
       "N.O.S                               10\n",
       "NDD                                  8\n",
       "PTSD                                 8\n",
       "Panaroid sehesophre                  9\n",
       "Post Partum Psychosis               16\n",
       "Post Partum Psychotic disorder       6\n",
       "Psychotic                            4\n",
       "Psychotic disorder                 121\n",
       "RBD (CP)                             8\n",
       "SRD                                158\n",
       "Schizophrenia                     1170\n",
       "Yes sound disorder                  10\n",
       "Name: Diagnosis, dtype: int64"
      ]
     },
     "execution_count": 38,
     "metadata": {},
     "output_type": "execute_result"
    }
   ],
   "source": [
    "df[\"Diagnosis\"].groupby(df[\"Diagnosis\"],axis=0).count()"
   ]
  },
  {
   "cell_type": "code",
   "execution_count": null,
   "metadata": {},
   "outputs": [],
   "source": []
  }
 ],
 "metadata": {
  "kernelspec": {
   "display_name": "Python 3",
   "language": "python",
   "name": "python3"
  },
  "language_info": {
   "codemirror_mode": {
    "name": "ipython",
    "version": 3
   },
   "file_extension": ".py",
   "mimetype": "text/x-python",
   "name": "python",
   "nbconvert_exporter": "python",
   "pygments_lexer": "ipython3",
   "version": "3.6.4"
  }
 },
 "nbformat": 4,
 "nbformat_minor": 2
}
