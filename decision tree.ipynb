{
 "cells": [
  {
   "cell_type": "code",
   "execution_count": 1,
   "metadata": {},
   "outputs": [
    {
     "name": "stdout",
     "output_type": "stream",
     "text": [
      "Accuracy:  0.5106382978723404\n",
      "Accuracy:  0.5319148936170213\n",
      "Accuracy:  0.5531914893617021\n",
      "Accuracy:  0.44680851063829785\n",
      "Accuracy:  0.5531914893617021\n",
      "Accuracy:  0.6170212765957447\n",
      "Accuracy:  0.5957446808510638\n",
      "Accuracy:  0.5957446808510638\n",
      "Accuracy:  0.425531914893617\n",
      "Accuracy:  0.5319148936170213\n",
      "Accuracy:  0.6382978723404256\n",
      "Accuracy:  0.5319148936170213\n",
      "Accuracy:  0.574468085106383\n",
      "Accuracy:  0.5957446808510638\n",
      "Accuracy:  0.6170212765957447\n",
      "Accuracy:  0.44680851063829785\n",
      "Accuracy:  0.48936170212765956\n",
      "Accuracy:  0.723404255319149\n",
      "Accuracy:  0.6595744680851063\n",
      "Accuracy:  0.44680851063829785\n",
      "Accuracy:  0.5531914893617021\n",
      "Accuracy:  0.5106382978723404\n",
      "Accuracy:  0.5957446808510638\n",
      "Accuracy:  0.40425531914893614\n",
      "Accuracy:  0.6382978723404256\n",
      "Accuracy:  0.6170212765957447\n",
      "Accuracy:  0.6170212765957447\n",
      "Accuracy:  0.6170212765957447\n",
      "Accuracy:  0.5319148936170213\n",
      "Accuracy:  0.44680851063829785\n",
      "Accuracy:  0.6808510638297872\n",
      "Accuracy:  0.48936170212765956\n",
      "Accuracy:  0.5531914893617021\n",
      "Accuracy:  0.574468085106383\n",
      "Accuracy:  0.5106382978723404\n",
      "Accuracy:  0.6595744680851063\n",
      "Accuracy:  0.6808510638297872\n",
      "Accuracy:  0.574468085106383\n",
      "Accuracy:  0.5319148936170213\n",
      "Accuracy:  0.5957446808510638\n",
      "Accuracy:  0.425531914893617\n",
      "Accuracy:  0.5319148936170213\n",
      "Accuracy:  0.5957446808510638\n",
      "Accuracy:  0.6170212765957447\n",
      "Accuracy:  0.5319148936170213\n",
      "Accuracy:  0.574468085106383\n",
      "Accuracy:  0.48936170212765956\n",
      "Accuracy:  0.6170212765957447\n",
      "Accuracy:  0.5319148936170213\n"
     ]
    },
    {
     "name": "stderr",
     "output_type": "stream",
     "text": [
      "C:\\Users\\Ariful\\Anaconda3\\lib\\site-packages\\sklearn\\cross_validation.py:41: DeprecationWarning: This module was deprecated in version 0.18 in favor of the model_selection module into which all the refactored classes and functions are moved. Also note that the interface of the new CV iterators are different from that of this module. This module will be removed in 0.20.\n",
      "  \"This module will be removed in 0.20.\", DeprecationWarning)\n"
     ]
    }
   ],
   "source": [
    "#using age+gender+status+units+complients\n",
    "import pandas as pd  \n",
    "import numpy as np  \n",
    "import matplotlib.pyplot as plt  \n",
    "%matplotlib inline\n",
    "\n",
    "from sklearn.metrics import accuracy_score\n",
    "\n",
    "\n",
    "df = pd.read_csv('C:\\\\Users\\\\Ariful\\\\Desktop\\\\final data\\\\thesisfinaldata3.csv')\n",
    "\n",
    "df=df.fillna('0')\n",
    "\n",
    "df = df.drop(['Age'], axis= 1)\n",
    "df = df.drop(['Age2'], axis= 1)\n",
    "\n",
    "df = df.drop(['Perm_Address'], axis= 1)\n",
    "#df = df.drop(['Marital_status'], axis= 1)\n",
    "\n",
    "X = df.iloc[:,1:22].values\n",
    "y = df.iloc[:,-1].values\n",
    "#print(\"\\nX before making numerical: \\n\",X)\n",
    "#print(\"\\ny before making numerical: \\n\",y)\n",
    "\n",
    "from sklearn.preprocessing import LabelEncoder\n",
    "labelencoder_X = LabelEncoder()\n",
    "for i in range(0,21):\n",
    "    X[:,i]= labelencoder_X.fit_transform(X[:,i])\n",
    "\n",
    "labelencoder_y = LabelEncoder()\n",
    "y= labelencoder_y.fit_transform(y)\n",
    "#print(\"\\nX after making numerical: \\n\",X)\n",
    "#print(\"\\ny after making numerical: \\n\",y)\n",
    "\n",
    "for i in range(1,50):\n",
    "    from sklearn.cross_validation import train_test_split\n",
    "    X_train, X_test, y_train, y_test = train_test_split(X,y, test_size = 0.1, random_state = i)\n",
    "    \n",
    "    from sklearn.tree import DecisionTreeClassifier\n",
    "    clf_gini = DecisionTreeClassifier(criterion='gini', max_depth=15,\n",
    "            max_features=8, max_leaf_nodes=15, min_samples_leaf=3)\n",
    "    clf_gini.fit(X_train, y_train)\n",
    "    predicted = clf_gini.predict(X_test)\n",
    "\n",
    "    #print(\"Prediction Result: \",predicted)\n",
    "\n",
    "    print(\"Accuracy: \",accuracy_score(y_test, predicted, normalize = True)) #accuracy_score(train output, predict output)"
   ]
  },
  {
   "cell_type": "code",
   "execution_count": 2,
   "metadata": {},
   "outputs": [
    {
     "name": "stderr",
     "output_type": "stream",
     "text": [
      "C:\\Users\\Ariful\\Anaconda3\\lib\\site-packages\\sklearn\\metrics\\classification.py:1135: UndefinedMetricWarning: Precision and F-score are ill-defined and being set to 0.0 in labels with no predicted samples.\n",
      "  'precision', 'predicted', average, warn_for)\n",
      "C:\\Users\\Ariful\\Anaconda3\\lib\\site-packages\\sklearn\\metrics\\classification.py:1137: UndefinedMetricWarning: Recall and F-score are ill-defined and being set to 0.0 in labels with no true samples.\n",
      "  'recall', 'true', average, warn_for)\n"
     ]
    },
    {
     "name": "stdout",
     "output_type": "stream",
     "text": [
      "             precision    recall  f1-score   support\n",
      "\n",
      "          0       0.00      0.00      0.00         0\n",
      "          1       0.70      0.41      0.52        17\n",
      "          3       0.00      0.00      0.00         1\n",
      "          4       0.00      0.00      0.00         1\n",
      "          8       0.00      0.00      0.00         2\n",
      "          9       0.00      0.00      0.00         5\n",
      "         10       0.53      0.86      0.65        21\n",
      "\n",
      "avg / total       0.49      0.53      0.48        47\n",
      "\n"
     ]
    },
    {
     "name": "stderr",
     "output_type": "stream",
     "text": [
      "C:\\Users\\Ariful\\Anaconda3\\lib\\site-packages\\sklearn\\grid_search.py:42: DeprecationWarning: This module was deprecated in version 0.18 in favor of the model_selection module into which all the refactored classes and functions are moved. This module will be removed in 0.20.\n",
      "  DeprecationWarning)\n",
      "C:\\Users\\Ariful\\Anaconda3\\lib\\site-packages\\sklearn\\cross_validation.py:553: Warning: The least populated class in y has only 2 members, which is too few. The minimum number of labels for any class cannot be less than n_folds=10.\n",
      "  % (min_labels, self.n_folds)), Warning)\n"
     ]
    },
    {
     "name": "stdout",
     "output_type": "stream",
     "text": [
      "0.5717703349282297\n",
      "{'max_depth': 18, 'max_features': 8, 'min_samples_leaf': 9}\n",
      "[0.43478261 0.51111111 0.39534884 0.48837209 0.54761905 0.57142857\n",
      " 0.58536585 0.575      0.52631579 0.60526316]\n"
     ]
    },
    {
     "name": "stderr",
     "output_type": "stream",
     "text": [
      "C:\\Users\\Ariful\\Anaconda3\\lib\\site-packages\\sklearn\\model_selection\\_split.py:605: Warning: The least populated class in y has only 2 members, which is too few. The minimum number of members in any class cannot be less than n_splits=10.\n",
      "  % (min_groups, self.n_splits)), Warning)\n"
     ]
    },
    {
     "data": {
      "text/plain": [
       "0.5240607070113897"
      ]
     },
     "execution_count": 2,
     "metadata": {},
     "output_type": "execute_result"
    }
   ],
   "source": [
    "from sklearn.metrics import classification_report, confusion_matrix  \n",
    "#print(confusion_matrix(y_test,predicted))  \n",
    "print(classification_report(y_test,predicted))\n",
    "\n",
    "# Applying Grid Search to find the best model and the best parameters\n",
    "from sklearn.grid_search import GridSearchCV\n",
    "param_grid = {'max_depth': [12,15,18,21],\n",
    "                  'max_features': [7,8],\n",
    "                 'min_samples_leaf':[3,5,7,9,12,15]}\n",
    "CV_rfc = GridSearchCV(estimator=clf_gini, param_grid=param_grid, cv= 10)\n",
    "CV_rfc.fit(X_train, y_train)\n",
    "best_accuracy = CV_rfc.best_score_\n",
    "print (best_accuracy)\n",
    "a=CV_rfc.best_params_\n",
    "print (a)\n",
    "\n",
    "# Applying k-Fold Cross Validation\n",
    "from sklearn.model_selection import cross_val_score\n",
    "accuracies = cross_val_score(estimator = clf_gini, X = X_train, y = y_train, cv = 10)\n",
    "print(accuracies)\n",
    "accuracies.mean()\n",
    "\n",
    "#accuracies.std()"
   ]
  },
  {
   "cell_type": "code",
   "execution_count": 3,
   "metadata": {},
   "outputs": [
    {
     "name": "stdout",
     "output_type": "stream",
     "text": [
      "[10 10  8  1 10  1 10 10 10 10  1  1 10 10 10  1 10 10 10 10 10 10 10  1\n",
      " 10 10 10  0 10 10  1 10 10 10  8 10  1 10 10 10 10 10  1 10 10  1 10]\n",
      "[10  1 10  9 10  1 10 10  9  1  1  1  4  1  1  1 10  1  9 10 10 10  9  8\n",
      " 10 10 10 10 10  9  1  1 10  1  1 10  1  1  1 10  8 10 10  3 10  1 10]\n"
     ]
    }
   ],
   "source": [
    "print (predicted)\n",
    "print (y_test)\n"
   ]
  },
  {
   "cell_type": "code",
   "execution_count": null,
   "metadata": {},
   "outputs": [],
   "source": []
  },
  {
   "cell_type": "code",
   "execution_count": null,
   "metadata": {},
   "outputs": [],
   "source": []
  },
  {
   "cell_type": "code",
   "execution_count": null,
   "metadata": {},
   "outputs": [],
   "source": []
  },
  {
   "cell_type": "code",
   "execution_count": null,
   "metadata": {},
   "outputs": [],
   "source": []
  },
  {
   "cell_type": "code",
   "execution_count": null,
   "metadata": {},
   "outputs": [],
   "source": []
  },
  {
   "cell_type": "code",
   "execution_count": null,
   "metadata": {},
   "outputs": [],
   "source": []
  },
  {
   "cell_type": "code",
   "execution_count": null,
   "metadata": {},
   "outputs": [],
   "source": []
  }
 ],
 "metadata": {
  "kernelspec": {
   "display_name": "Python 3",
   "language": "python",
   "name": "python3"
  },
  "language_info": {
   "codemirror_mode": {
    "name": "ipython",
    "version": 3
   },
   "file_extension": ".py",
   "mimetype": "text/x-python",
   "name": "python",
   "nbconvert_exporter": "python",
   "pygments_lexer": "ipython3",
   "version": "3.6.4"
  }
 },
 "nbformat": 4,
 "nbformat_minor": 2
}
